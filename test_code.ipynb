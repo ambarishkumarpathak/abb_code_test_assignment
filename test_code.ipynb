{
 "cells": [
  {
   "cell_type": "code",
   "execution_count": 1,
   "id": "0769d0c7-84e2-425c-9f74-bf65772ccbf4",
   "metadata": {},
   "outputs": [],
   "source": [
    "import pandas as pd\n",
    "\n",
    "from predict_sales import PredictSales"
   ]
  },
  {
   "cell_type": "code",
   "execution_count": 2,
   "id": "497f8feb-e7dd-4f3e-8ebc-7780f15ef831",
   "metadata": {},
   "outputs": [],
   "source": [
    "train_data = pd.read_csv(\"train_v9rqX0R.csv\")\n",
    "test_data = pd.read_csv(\"test_AbJTz2l.csv\")"
   ]
  },
  {
   "cell_type": "code",
   "execution_count": 5,
   "id": "c82aa989-0f7a-455a-9959-8ba92acd71a4",
   "metadata": {},
   "outputs": [
    {
     "name": "stdout",
     "output_type": "stream",
     "text": [
      "10\n",
      "(8523, 19) (5681, 19)\n",
      "dict_keys(['dt', 'rf', 'ab', 'gb', 'xgb']) [1240.1520128049428, 1058.3075899248936, 1102.1985933203991, 1038.3643736663907, 1073.9667186071015]\n"
     ]
    }
   ],
   "source": [
    "for q in [10]:\n",
    "    print(q)\n",
    "    obj = PredictSales(q)\n",
    "    output = obj.predict_sales_amt(train_data, test_data) \n"
   ]
  },
  {
   "cell_type": "code",
   "execution_count": 7,
   "id": "9cbf43df-31f0-47a4-a93e-c8cd64071d57",
   "metadata": {},
   "outputs": [
    {
     "data": {
      "text/html": [
       "<div>\n",
       "<style scoped>\n",
       "    .dataframe tbody tr th:only-of-type {\n",
       "        vertical-align: middle;\n",
       "    }\n",
       "\n",
       "    .dataframe tbody tr th {\n",
       "        vertical-align: top;\n",
       "    }\n",
       "\n",
       "    .dataframe thead th {\n",
       "        text-align: right;\n",
       "    }\n",
       "</style>\n",
       "<table border=\"1\" class=\"dataframe\">\n",
       "  <thead>\n",
       "    <tr style=\"text-align: right;\">\n",
       "      <th></th>\n",
       "      <th>Item_Outlet_Sales</th>\n",
       "    </tr>\n",
       "  </thead>\n",
       "  <tbody>\n",
       "    <tr>\n",
       "      <th>count</th>\n",
       "      <td>5681.000000</td>\n",
       "    </tr>\n",
       "    <tr>\n",
       "      <th>mean</th>\n",
       "      <td>2175.226946</td>\n",
       "    </tr>\n",
       "    <tr>\n",
       "      <th>std</th>\n",
       "      <td>1297.940514</td>\n",
       "    </tr>\n",
       "    <tr>\n",
       "      <th>min</th>\n",
       "      <td>1.137199</td>\n",
       "    </tr>\n",
       "    <tr>\n",
       "      <th>25%</th>\n",
       "      <td>1104.163360</td>\n",
       "    </tr>\n",
       "    <tr>\n",
       "      <th>50%</th>\n",
       "      <td>2078.140490</td>\n",
       "    </tr>\n",
       "    <tr>\n",
       "      <th>75%</th>\n",
       "      <td>3090.907997</td>\n",
       "    </tr>\n",
       "    <tr>\n",
       "      <th>max</th>\n",
       "      <td>6830.476471</td>\n",
       "    </tr>\n",
       "  </tbody>\n",
       "</table>\n",
       "</div>"
      ],
      "text/plain": [
       "       Item_Outlet_Sales\n",
       "count        5681.000000\n",
       "mean         2175.226946\n",
       "std          1297.940514\n",
       "min             1.137199\n",
       "25%          1104.163360\n",
       "50%          2078.140490\n",
       "75%          3090.907997\n",
       "max          6830.476471"
      ]
     },
     "execution_count": 7,
     "metadata": {},
     "output_type": "execute_result"
    }
   ],
   "source": [
    "out = pd.read_csv(\"first_output_10_15_pct_test_encoded_outliers_treated_no_fine_tune.csv\")\n",
    "out.describe()"
   ]
  },
  {
   "cell_type": "code",
   "execution_count": 9,
   "id": "f1126d94-ccc0-4620-b80e-7ef4b68230c5",
   "metadata": {},
   "outputs": [
    {
     "data": {
      "text/html": [
       "<div>\n",
       "<style scoped>\n",
       "    .dataframe tbody tr th:only-of-type {\n",
       "        vertical-align: middle;\n",
       "    }\n",
       "\n",
       "    .dataframe tbody tr th {\n",
       "        vertical-align: top;\n",
       "    }\n",
       "\n",
       "    .dataframe thead th {\n",
       "        text-align: right;\n",
       "    }\n",
       "</style>\n",
       "<table border=\"1\" class=\"dataframe\">\n",
       "  <thead>\n",
       "    <tr style=\"text-align: right;\">\n",
       "      <th></th>\n",
       "      <th>Item_Outlet_Sales</th>\n",
       "    </tr>\n",
       "  </thead>\n",
       "  <tbody>\n",
       "    <tr>\n",
       "      <th>count</th>\n",
       "      <td>5681.000000</td>\n",
       "    </tr>\n",
       "    <tr>\n",
       "      <th>mean</th>\n",
       "      <td>2177.955617</td>\n",
       "    </tr>\n",
       "    <tr>\n",
       "      <th>std</th>\n",
       "      <td>1279.537934</td>\n",
       "    </tr>\n",
       "    <tr>\n",
       "      <th>min</th>\n",
       "      <td>0.000000</td>\n",
       "    </tr>\n",
       "    <tr>\n",
       "      <th>25%</th>\n",
       "      <td>1131.227341</td>\n",
       "    </tr>\n",
       "    <tr>\n",
       "      <th>50%</th>\n",
       "      <td>2067.886269</td>\n",
       "    </tr>\n",
       "    <tr>\n",
       "      <th>75%</th>\n",
       "      <td>3083.186639</td>\n",
       "    </tr>\n",
       "    <tr>\n",
       "      <th>max</th>\n",
       "      <td>6188.904917</td>\n",
       "    </tr>\n",
       "  </tbody>\n",
       "</table>\n",
       "</div>"
      ],
      "text/plain": [
       "       Item_Outlet_Sales\n",
       "count        5681.000000\n",
       "mean         2177.955617\n",
       "std          1279.537934\n",
       "min             0.000000\n",
       "25%          1131.227341\n",
       "50%          2067.886269\n",
       "75%          3083.186639\n",
       "max          6188.904917"
      ]
     },
     "execution_count": 9,
     "metadata": {},
     "output_type": "execute_result"
    }
   ],
   "source": [
    "out['Item_Outlet_Sales'] = out['Item_Outlet_Sales'].apply(lambda x: 0 if x < 0 else x)\n",
    "out.describe()"
   ]
  },
  {
   "cell_type": "code",
   "execution_count": 11,
   "id": "23a83574-bbeb-4a74-8cf8-7f60bef1a527",
   "metadata": {},
   "outputs": [],
   "source": [
    "out.to_csv(\"first_output_10_encoded_outliers_treated_grid_search.csv\", index=False)"
   ]
  },
  {
   "cell_type": "code",
   "execution_count": 7,
   "id": "a409da95-1e4d-4b8c-a6db-4776fdc4ed6c",
   "metadata": {},
   "outputs": [],
   "source": [
    "(test_y, pred), (train_y, pred_tr), (y, pred_all) = output[1], output[2], output[3]"
   ]
  },
  {
   "cell_type": "code",
   "execution_count": 9,
   "id": "e276d57c-bc87-4127-a2a5-56162485a859",
   "metadata": {},
   "outputs": [],
   "source": [
    "te = pd.DataFrame({'act': test_y, 'pred': pred})\n",
    "te['diff'] = te['act'] - te['pred']\n",
    "\n",
    "tr = pd.DataFrame({'act': train_y, 'pred': pred_tr})\n",
    "tr['diff'] = te['act'] - te['pred']\n",
    "\n",
    "d = pd.DataFrame({'act': y, 'pred': pred_all})\n",
    "d['diff'] = d['act'] - d['pred']"
   ]
  },
  {
   "cell_type": "code",
   "execution_count": 13,
   "id": "45a21df1-0004-483d-8b40-e0ed0b1b6fdb",
   "metadata": {},
   "outputs": [],
   "source": [
    "import matplotlib.pyplot as plt\n",
    "import seaborn as sns\n",
    "\n",
    "import warnings\n",
    "\n",
    "sns.set()\n",
    "plt.rcParams['figure.figsize'] = (15, 5)\n",
    "warnings.filterwarnings(\"ignore\")"
   ]
  },
  {
   "cell_type": "code",
   "execution_count": 17,
   "id": "9d9e09a0-9aa2-4e5e-b414-120b278e8ac7",
   "metadata": {},
   "outputs": [
    {
     "data": {
      "text/html": [
       "<div>\n",
       "<style scoped>\n",
       "    .dataframe tbody tr th:only-of-type {\n",
       "        vertical-align: middle;\n",
       "    }\n",
       "\n",
       "    .dataframe tbody tr th {\n",
       "        vertical-align: top;\n",
       "    }\n",
       "\n",
       "    .dataframe thead th {\n",
       "        text-align: right;\n",
       "    }\n",
       "</style>\n",
       "<table border=\"1\" class=\"dataframe\">\n",
       "  <thead>\n",
       "    <tr style=\"text-align: right;\">\n",
       "      <th></th>\n",
       "      <th>act</th>\n",
       "      <th>pred</th>\n",
       "      <th>diff</th>\n",
       "    </tr>\n",
       "  </thead>\n",
       "  <tbody>\n",
       "    <tr>\n",
       "      <th>64</th>\n",
       "      <td>2543.3560</td>\n",
       "      <td>7256.275879</td>\n",
       "      <td>-4712.919879</td>\n",
       "    </tr>\n",
       "    <tr>\n",
       "      <th>1255</th>\n",
       "      <td>1541.9928</td>\n",
       "      <td>5612.889160</td>\n",
       "      <td>-4070.896360</td>\n",
       "    </tr>\n",
       "    <tr>\n",
       "      <th>6505</th>\n",
       "      <td>1917.5040</td>\n",
       "      <td>5881.782715</td>\n",
       "      <td>-3964.278715</td>\n",
       "    </tr>\n",
       "    <tr>\n",
       "      <th>3615</th>\n",
       "      <td>460.7336</td>\n",
       "      <td>4368.327637</td>\n",
       "      <td>-3907.594037</td>\n",
       "    </tr>\n",
       "    <tr>\n",
       "      <th>1924</th>\n",
       "      <td>1263.0226</td>\n",
       "      <td>4933.624512</td>\n",
       "      <td>-3670.601912</td>\n",
       "    </tr>\n",
       "    <tr>\n",
       "      <th>...</th>\n",
       "      <td>...</td>\n",
       "      <td>...</td>\n",
       "      <td>...</td>\n",
       "    </tr>\n",
       "    <tr>\n",
       "      <th>1043</th>\n",
       "      <td>7152.0236</td>\n",
       "      <td>3228.522217</td>\n",
       "      <td>3923.501383</td>\n",
       "    </tr>\n",
       "    <tr>\n",
       "      <th>3154</th>\n",
       "      <td>8912.3988</td>\n",
       "      <td>4881.595215</td>\n",
       "      <td>4030.803585</td>\n",
       "    </tr>\n",
       "    <tr>\n",
       "      <th>2549</th>\n",
       "      <td>6381.6930</td>\n",
       "      <td>1878.537598</td>\n",
       "      <td>4503.155402</td>\n",
       "    </tr>\n",
       "    <tr>\n",
       "      <th>373</th>\n",
       "      <td>7763.2280</td>\n",
       "      <td>2809.340088</td>\n",
       "      <td>4953.887912</td>\n",
       "    </tr>\n",
       "    <tr>\n",
       "      <th>6993</th>\n",
       "      <td>7719.2852</td>\n",
       "      <td>2402.735596</td>\n",
       "      <td>5316.549604</td>\n",
       "    </tr>\n",
       "  </tbody>\n",
       "</table>\n",
       "<p>1705 rows × 3 columns</p>\n",
       "</div>"
      ],
      "text/plain": [
       "            act         pred         diff\n",
       "64    2543.3560  7256.275879 -4712.919879\n",
       "1255  1541.9928  5612.889160 -4070.896360\n",
       "6505  1917.5040  5881.782715 -3964.278715\n",
       "3615   460.7336  4368.327637 -3907.594037\n",
       "1924  1263.0226  4933.624512 -3670.601912\n",
       "...         ...          ...          ...\n",
       "1043  7152.0236  3228.522217  3923.501383\n",
       "3154  8912.3988  4881.595215  4030.803585\n",
       "2549  6381.6930  1878.537598  4503.155402\n",
       "373   7763.2280  2809.340088  4953.887912\n",
       "6993  7719.2852  2402.735596  5316.549604\n",
       "\n",
       "[1705 rows x 3 columns]"
      ]
     },
     "execution_count": 17,
     "metadata": {},
     "output_type": "execute_result"
    }
   ],
   "source": [
    "te.sort_values('diff')"
   ]
  },
  {
   "cell_type": "code",
   "execution_count": 15,
   "id": "642b8cca-09bf-4456-b189-bddeb784e53d",
   "metadata": {},
   "outputs": [
    {
     "data": {
      "image/png": "[encoded data removed]",
      "text/plain": [
       "<Figure size 1500x500 with 1 Axes>"
      ]
     },
     "metadata": {},
     "output_type": "display_data"
    }
   ],
   "source": [
    "plt.hist(te['diff'])\n",
    "plt.show()"
   ]
  },
  {
   "cell_type": "code",
   "execution_count": 21,
   "id": "d3c39385-a17a-4001-bc7f-d469c55a77a1",
   "metadata": {},
   "outputs": [
    {
     "data": {
      "image/png": "[encoded data removed]",
      "text/plain": [
       "<Figure size 1500x500 with 1 Axes>"
      ]
     },
     "metadata": {},
     "output_type": "display_data"
    }
   ],
   "source": [
    "plt.hist(te['act'])\n",
    "plt.show()"
   ]
  },
  {
   "cell_type": "code",
   "execution_count": 25,
   "id": "9261cf23-c67c-49ac-b04f-5dba45d3a46a",
   "metadata": {},
   "outputs": [
    {
     "data": {
      "image/png": "[encoded data removed]",
      "text/plain": [
       "<Figure size 1500x500 with 1 Axes>"
      ]
     },
     "metadata": {},
     "output_type": "display_data"
    }
   ],
   "source": [
    "plt.hist(te['pred'])\n",
    "plt.show()"
   ]
  },
  {
   "cell_type": "code",
   "execution_count": 23,
   "id": "13527895-71a3-40ed-a3fd-004f72706efd",
   "metadata": {},
   "outputs": [
    {
     "data": {
      "image/png": "[encoded data removed]",
      "text/plain": [
       "<Figure size 1500x500 with 1 Axes>"
      ]
     },
     "metadata": {},
     "output_type": "display_data"
    }
   ],
   "source": [
    "plt.hist(tr['act'])\n",
    "plt.show()"
   ]
  },
  {
   "cell_type": "code",
   "execution_count": null,
   "id": "619eeb99-72be-469f-a04b-fa4b3ac8ad3c",
   "metadata": {},
   "outputs": [],
   "source": []
  }
 ],
 "metadata": {
  "kernelspec": {
   "display_name": "Python [conda env:base] *",
   "language": "python",
   "name": "conda-base-py"
  },
  "language_info": {
   "codemirror_mode": {
    "name": "ipython",
    "version": 3
   },
   "file_extension": ".py",
   "mimetype": "text/x-python",
   "name": "python",
   "nbconvert_exporter": "python",
   "pygments_lexer": "ipython3",
   "version": "3.12.7"
  }
 },
 "nbformat": 4,
 "nbformat_minor": 5
}
